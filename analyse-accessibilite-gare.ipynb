{
 "cells": [
  {
   "cell_type": "code",
   "execution_count": 8,
   "metadata": {},
   "outputs": [],
   "source": [
    "import numpy as np\n",
    "import pandas as pd\n",
    "import matplotlib.pyplot as plt"
   ]
  },
  {
   "cell_type": "code",
   "execution_count": 9,
   "metadata": {},
   "outputs": [],
   "source": [
    "accessibilite_en_gare = pd.read_csv(\"./data_workshop/accessibilite-en-gare.csv\", sep = \";\")"
   ]
  },
  {
   "cell_type": "code",
   "execution_count": 10,
   "metadata": {},
   "outputs": [
    {
     "data": {
      "text/html": [
       "<div>\n",
       "<style scoped>\n",
       "    .dataframe tbody tr th:only-of-type {\n",
       "        vertical-align: middle;\n",
       "    }\n",
       "\n",
       "    .dataframe tbody tr th {\n",
       "        vertical-align: top;\n",
       "    }\n",
       "\n",
       "    .dataframe thead th {\n",
       "        text-align: right;\n",
       "    }\n",
       "</style>\n",
       "<table border=\"1\" class=\"dataframe\">\n",
       "  <thead>\n",
       "    <tr style=\"text-align: right;\">\n",
       "      <th></th>\n",
       "      <th>stop_point_id</th>\n",
       "      <th>accessibility_level_id</th>\n",
       "      <th>accessibility_level_name</th>\n",
       "      <th>commentaire</th>\n",
       "      <th>stop_name</th>\n",
       "      <th>stop_point_geopoint</th>\n",
       "    </tr>\n",
       "  </thead>\n",
       "  <tbody>\n",
       "    <tr>\n",
       "      <th>0</th>\n",
       "      <td>stop_point:IDFM:monomodalStopPlace:46387</td>\n",
       "      <td>1</td>\n",
       "      <td>gare ou arrêt non accessible</td>\n",
       "      <td>NaN</td>\n",
       "      <td>Ablon</td>\n",
       "      <td>48.72578126379895, 2.4198671478914595</td>\n",
       "    </tr>\n",
       "    <tr>\n",
       "      <th>1</th>\n",
       "      <td>stop_point:IDFM:monomodalStopPlace:45447</td>\n",
       "      <td>3</td>\n",
       "      <td>train accessible sur réservation préalable aup...</td>\n",
       "      <td>NaN</td>\n",
       "      <td>Avenue Henri Martin</td>\n",
       "      <td>48.86545537297977, 2.2722351438875577</td>\n",
       "    </tr>\n",
       "    <tr>\n",
       "      <th>2</th>\n",
       "      <td>stop_point:IDFM:monomodalStopPlace:47119</td>\n",
       "      <td>1</td>\n",
       "      <td>gare ou arrêt non accessible</td>\n",
       "      <td>NaN</td>\n",
       "      <td>Bagneaux-sur-Loing</td>\n",
       "      <td>48.22938980618883, 2.7040329448732985</td>\n",
       "    </tr>\n",
       "    <tr>\n",
       "      <th>3</th>\n",
       "      <td>stop_point:IDFM:monomodalStopPlace:43088</td>\n",
       "      <td>1</td>\n",
       "      <td>gare ou arrêt non accessible</td>\n",
       "      <td>NaN</td>\n",
       "      <td>Bellevue</td>\n",
       "      <td>48.818872981385084, 2.2299563222165655</td>\n",
       "    </tr>\n",
       "    <tr>\n",
       "      <th>4</th>\n",
       "      <td>stop_point:IDFM:monomodalStopPlace:47524</td>\n",
       "      <td>1</td>\n",
       "      <td>gare ou arrêt non accessible</td>\n",
       "      <td>NaN</td>\n",
       "      <td>Belloy - Saint-Martin</td>\n",
       "      <td>49.09838940491585, 2.3613265147338978</td>\n",
       "    </tr>\n",
       "  </tbody>\n",
       "</table>\n",
       "</div>"
      ],
      "text/plain": [
       "                              stop_point_id  accessibility_level_id  \\\n",
       "0  stop_point:IDFM:monomodalStopPlace:46387                       1   \n",
       "1  stop_point:IDFM:monomodalStopPlace:45447                       3   \n",
       "2  stop_point:IDFM:monomodalStopPlace:47119                       1   \n",
       "3  stop_point:IDFM:monomodalStopPlace:43088                       1   \n",
       "4  stop_point:IDFM:monomodalStopPlace:47524                       1   \n",
       "\n",
       "                            accessibility_level_name commentaire  \\\n",
       "0                       gare ou arrêt non accessible         NaN   \n",
       "1  train accessible sur réservation préalable aup...         NaN   \n",
       "2                       gare ou arrêt non accessible         NaN   \n",
       "3                       gare ou arrêt non accessible         NaN   \n",
       "4                       gare ou arrêt non accessible         NaN   \n",
       "\n",
       "               stop_name                     stop_point_geopoint  \n",
       "0                  Ablon   48.72578126379895, 2.4198671478914595  \n",
       "1    Avenue Henri Martin   48.86545537297977, 2.2722351438875577  \n",
       "2     Bagneaux-sur-Loing   48.22938980618883, 2.7040329448732985  \n",
       "3               Bellevue  48.818872981385084, 2.2299563222165655  \n",
       "4  Belloy - Saint-Martin   49.09838940491585, 2.3613265147338978  "
      ]
     },
     "execution_count": 10,
     "metadata": {},
     "output_type": "execute_result"
    }
   ],
   "source": [
    "accessibilite_en_gare.head()"
   ]
  },
  {
   "cell_type": "code",
   "execution_count": 11,
   "metadata": {},
   "outputs": [
    {
     "name": "stdout",
     "output_type": "stream",
     "text": [
      "<class 'pandas.core.frame.DataFrame'>\n",
      "RangeIndex: 459 entries, 0 to 458\n",
      "Data columns (total 6 columns):\n",
      " #   Column                    Non-Null Count  Dtype \n",
      "---  ------                    --------------  ----- \n",
      " 0   stop_point_id             459 non-null    object\n",
      " 1   accessibility_level_id    459 non-null    int64 \n",
      " 2   accessibility_level_name  459 non-null    object\n",
      " 3   commentaire               19 non-null     object\n",
      " 4   stop_name                 459 non-null    object\n",
      " 5   stop_point_geopoint       459 non-null    object\n",
      "dtypes: int64(1), object(5)\n",
      "memory usage: 21.6+ KB\n"
     ]
    }
   ],
   "source": [
    "accessibilite_en_gare.info()"
   ]
  },
  {
   "cell_type": "code",
   "execution_count": 12,
   "metadata": {},
   "outputs": [
    {
     "data": {
      "text/plain": [
       "stop_point_id                 0\n",
       "accessibility_level_id        0\n",
       "accessibility_level_name      0\n",
       "commentaire                 440\n",
       "stop_name                     0\n",
       "stop_point_geopoint           0\n",
       "dtype: int64"
      ]
     },
     "execution_count": 12,
     "metadata": {},
     "output_type": "execute_result"
    }
   ],
   "source": [
    "accessibilite_en_gare.isnull().sum()"
   ]
  },
  {
   "cell_type": "code",
   "execution_count": 13,
   "metadata": {},
   "outputs": [
    {
     "data": {
      "text/html": [
       "<div>\n",
       "<style scoped>\n",
       "    .dataframe tbody tr th:only-of-type {\n",
       "        vertical-align: middle;\n",
       "    }\n",
       "\n",
       "    .dataframe tbody tr th {\n",
       "        vertical-align: top;\n",
       "    }\n",
       "\n",
       "    .dataframe thead th {\n",
       "        text-align: right;\n",
       "    }\n",
       "</style>\n",
       "<table border=\"1\" class=\"dataframe\">\n",
       "  <thead>\n",
       "    <tr style=\"text-align: right;\">\n",
       "      <th></th>\n",
       "      <th>accessibility_level_name</th>\n",
       "      <th>counts</th>\n",
       "    </tr>\n",
       "  </thead>\n",
       "  <tbody>\n",
       "    <tr>\n",
       "      <th>0</th>\n",
       "      <td>gare ou arrêt non accessible</td>\n",
       "      <td>222</td>\n",
       "    </tr>\n",
       "    <tr>\n",
       "      <th>1</th>\n",
       "      <td>train accessible sur demande auprès d'un agent...</td>\n",
       "      <td>58</td>\n",
       "    </tr>\n",
       "    <tr>\n",
       "      <th>2</th>\n",
       "      <td>train accessible sur réservation préalable aup...</td>\n",
       "      <td>166</td>\n",
       "    </tr>\n",
       "    <tr>\n",
       "      <th>3</th>\n",
       "      <td>véhicule accessible en toute autonomie</td>\n",
       "      <td>13</td>\n",
       "    </tr>\n",
       "  </tbody>\n",
       "</table>\n",
       "</div>"
      ],
      "text/plain": [
       "                            accessibility_level_name  counts\n",
       "0                       gare ou arrêt non accessible     222\n",
       "1  train accessible sur demande auprès d'un agent...      58\n",
       "2  train accessible sur réservation préalable aup...     166\n",
       "3             véhicule accessible en toute autonomie      13"
      ]
     },
     "execution_count": 13,
     "metadata": {},
     "output_type": "execute_result"
    }
   ],
   "source": [
    "grouped_data = accessibilite_en_gare.groupby('accessibility_level_name').size().reset_index(name='counts')\n",
    "grouped_data"
   ]
  },
  {
   "cell_type": "code",
   "execution_count": 14,
   "metadata": {},
   "outputs": [
    {
     "name": "stdout",
     "output_type": "stream",
     "text": [
      "<class 'pandas.core.frame.DataFrame'>\n",
      "RangeIndex: 4 entries, 0 to 3\n",
      "Data columns (total 2 columns):\n",
      " #   Column                    Non-Null Count  Dtype \n",
      "---  ------                    --------------  ----- \n",
      " 0   accessibility_level_name  4 non-null      object\n",
      " 1   counts                    4 non-null      int64 \n",
      "dtypes: int64(1), object(1)\n",
      "memory usage: 192.0+ bytes\n"
     ]
    }
   ],
   "source": [
    "grouped_data.info()"
   ]
  },
  {
   "cell_type": "code",
   "execution_count": 15,
   "metadata": {},
   "outputs": [
    {
     "data": {
      "image/png": "[encoded data removed]",
      "text/plain": [
       "<Figure size 640x480 with 1 Axes>"
      ]
     },
     "metadata": {},
     "output_type": "display_data"
    }
   ],
   "source": [
    "plt.barh(grouped_data['accessibility_level_name'], grouped_data['counts'])\n",
    "plt.xlabel('Nombre d\\'occurrences')\n",
    "plt.ylabel('Niveau d\\'accessibilité')\n",
    "plt.title('Nombre de niveaux d\\'accessibilité')\n",
    "plt.show()"
   ]
  }
 ],
 "metadata": {
  "kernelspec": {
   "display_name": "Python 3",
   "language": "python",
   "name": "python3"
  },
  "language_info": {
   "codemirror_mode": {
    "name": "ipython",
    "version": 3
   },
   "file_extension": ".py",
   "mimetype": "text/x-python",
   "name": "python",
   "nbconvert_exporter": "python",
   "pygments_lexer": "ipython3",
   "version": "3.10.11"
  }
 },
 "nbformat": 4,
 "nbformat_minor": 2
}
